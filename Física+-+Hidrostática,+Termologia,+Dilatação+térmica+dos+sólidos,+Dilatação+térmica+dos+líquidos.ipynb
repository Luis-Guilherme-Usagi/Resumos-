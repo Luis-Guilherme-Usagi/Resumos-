{
 "cells": [
  {
   "cell_type": "markdown",
   "metadata": {},
   "source": [
    "# Hidrostática\n",
    "\n",
    " $$ Pressão = PressãoAtmosférica + MassaEspecífica . Gravidade . AlturaDaColunaDeLíquido $$\n",
    "\n",
    " $$ MassaEspecífica = \\frac {Massa}{Volume} $$\n",
    "\n",
    " $$ 1 atm = 10^5 N/m^2 = 10MetrosDeColunaDeÁgua = 76CentímetrosDeColunaDeMercúrio $$\n",
    "\n",
    " **Observação: ** Os cálculos devem ser desenvolvidos utilizando os dados da massa em quilogramas e do volume em metros cúbicos. A pressão em meio líquido é definida a partir da massa específica, gravidade e altura da coluna de líquido, não importando a forma do recipiente ou a proximidade do corpo sob análise em relação as paredes do mesmo.\n",
    "\n",
    "  O empuxo tem módulo igual ao peso do nível do fluido deslocado, e sentido contrário ao vetor peso desempenhado pelo corpo.\n",
    " \n",
    " ### Aplicações do Princípio de Pascal \n",
    "\n",
    " $$ \\frac {Força_1}{área_1} = \\frac {força_2}{área_2} $$\n",
    " \n",
    " ----------------------------------------------------------------------------------------------------------------------\n",
    "\n",
    "# Termologia\n",
    "\n",
    "### Temperatura\n",
    "\n",
    "**Temperatura -** Temperatura é o grau de agitação das moléculas de um determinado composto.\n",
    "\n",
    "### Escalas termométricas\n",
    "\n",
    "$$ \\frac {TemperaturaEmCelsius}{5} = \\frac {Temperatura em Fahrenheit - 32}{9} $$\n",
    "\n",
    "$$ TemperaturaEmCelsius = TemperaturaEmKelvin - 273 $$\n",
    "\n",
    "**Observação: ** Os cálculos de conversão de Escalas termométricas para outras genéricas devem ser feitos por meio do Teorema de Tales.\n",
    "\n",
    "### Propagação do calor\n",
    "\n",
    "* **Condução -** É a propagação de calor entre corpos sólidos por meio do contato.\n",
    "\n",
    "* **Convecção -** É a propagação de calor entre corpos fluídos, sejam líquidos ou gasosos, por meio da diferença de densidade decorrente dos aquecimentos e resfriamentos destes corpos.\n",
    "\n",
    "* **Irradiação -** É a propagação de calor sob a ação das ondas eletromagnéticas, único processo de propagação do calor isento da necessidade de um meio material, seja sólido, líquido ou gasoso.\n",
    "\n",
    "-----------------------------------------------------------------------------------------------------------------------\n",
    "# Dilatação térmica dos sólidos\n",
    "\n",
    "* **Dilatação Linear -** Ocorre em uma dimensão.\n",
    "\n",
    "  $$ Dilatação_L = Comprimento Inicial . Coeficiente De Dilatação . Variação de Temperatura $$\n",
    "  \n",
    "* **Dilatação Superficial -** Ocorre em duas dimensões.\n",
    "\n",
    "  $$ Dilatação_S = ÁreaInicial . 2CoeficienteDeDilatação . Variação de Temperatura $$\n",
    "  \n",
    "* **Dilatação Volumétrica -** Ocorre em três dimensões.\n",
    "\n",
    "  $$ Dilatação_V = Volume inicial . 3CoeficienteDeDilatação . Variação de Temperatura $$\n",
    "\n",
    "**Observação:** Em geral, os dados para cálculo da dilatação de um sólido são informados no próprio exercício, sendo necessária apenas a correta aplicação dos mesmos na fórmula. A dilatação ocorre conforme a temperatura, sendo que quanto maior a temperatura, maior a dilatação, é importante lembrar também, que em relação ao coeficiente de dilatação, quanto maior a temperatura, mais o corpo cresce, e quanto mais diminuta, mais o corpo diminui, sendo que o aumento e a diminuição ocorrem na mesma progressão. \n",
    "\n",
    "-----------------------------------------------------------------------------------------------------------------------\n",
    "# Dilatação térmica dos líquidos\n",
    "\n",
    " $$ Dilatação Real = Dilatação Aparente + Dilatação do Recipiente $$\n",
    " \n",
    " $$ Dilatação Aparente = Variação de Nível + Líquido transbordado $$\n",
    " \n",
    "### Dilatação anômala da água \n",
    "\n",
    "A água diminui seu volume de 0º à 4º, e aumenta de 4º a 0º. Este fenômeno explica por lagos congelam somente superficialmente\n",
    "\n"
   ]
  },
  {
   "cell_type": "code",
   "execution_count": null,
   "metadata": {
    "collapsed": true
   },
   "outputs": [],
   "source": []
  }
 ],
 "metadata": {
  "kernelspec": {
   "display_name": "Python [conda root]",
   "language": "python",
   "name": "conda-root-py"
  },
  "language_info": {
   "codemirror_mode": {
    "name": "ipython",
    "version": 3
   },
   "file_extension": ".py",
   "mimetype": "text/x-python",
   "name": "python",
   "nbconvert_exporter": "python",
   "pygments_lexer": "ipython3",
   "version": "3.5.2"
  }
 },
 "nbformat": 4,
 "nbformat_minor": 1
}
