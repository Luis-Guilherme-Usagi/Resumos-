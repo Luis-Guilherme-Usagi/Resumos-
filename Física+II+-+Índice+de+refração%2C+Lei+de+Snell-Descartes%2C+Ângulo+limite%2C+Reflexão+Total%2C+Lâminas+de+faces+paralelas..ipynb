{
 "cells": [
  {
   "cell_type": "markdown",
   "metadata": {},
   "source": [
    "# Refração da luz\n",
    "\n",
    "## Índice de refração absoluto (n)\n",
    "\n",
    "   O índice de refração absoluto (n) de um meio para uma determinada luz monocromática, uma vez que este depende da frequência, é dado pela razão entre a **velocidade da luz no vácuo (c)** e a **velocidade da luz no meio (v)** cujo índice de refração se quer determinar.\n",
    "   Ou seja:\n",
    "   \n",
    "   $$ÍndiceDeRefração = \\frac {Velocidade Da Luz_{No Vácuo}}{Velocidade Da Luz_{ No Meio}} $$ \n",
    "   **OU**\n",
    "   $$n = \\frac {c}{v}$$\n",
    "   \n",
    "   Note que uma vez que o numerador da fração descrita acima é a Velocidade da luz no meio, define-se a proporção inversa deste com o índice de refração. Em outras palavras, quanto *maior* a velocidade da luz no meio, *menor* o índice de refração, e vice-versa.\n",
    "   Uma vez que a velocidade da luz no vácuo é muito próxima da velocidade da luz no ar **(c≈v)**. Anui-se, ou seja, admite-se que o índice **(n)** de refração no ar será aproximadamente 1.\n",
    "\n",
    "## Índice de refração relativo\n",
    "\n",
    "   Cada par de meios transparentes em que a luz é refratada possui um índice de refração relativo. O valor desse índice é determinado pela razão entre os índices de refração absolutos de cada um dos meios pelos quais o raio é refratado.\n",
    "\n",
    "$$ Índice De Refração Relativo = \\frac {Índice De Refração Absoluto_A}{Índice de Refração Absoluto_B} $$ **OU** $$ Índice De Refração Relativo= \\frac {Velocidade_B}{Velocidade_A} $$\n",
    "\n",
    "Cujas representações simplificadas correspondem respectivamente à:\n",
    "\n",
    "$$ n_{A;B} = \\frac {n_A}{n_B} $$\n",
    "\n",
    "**E**\n",
    "\n",
    "$$ n_{A;B} = \\frac {v_A}{v_B} $$\n",
    "\n",
    "## Leis de refração\n",
    "\n",
    "* **1ª Lei da refração -** O raio incidente **(RI)**, o raio refratado **(RR)** e a reta normal **(N)** são coplanares, ou seja, fazem parte do mesmo plano.\n",
    "\n",
    "* **2ª Lei da refração (Lei de Snell-Decartes) -** Quando um raio de luz monocromático passa de um meio para outro, o produto do seno do ângulo, formado pelo raio e pela reta normal e o índice de refração do meio em que está o raio são constantes.\n",
    "\n",
    "![Lei de Snell-Descartes](http://4.bp.blogspot.com/-fgmJ-09XHNg/ToHpQe77p6I/AAAAAAAAalE/mQPAlzdlBW0/s400/refrilho.png)\n",
    "\n",
    "Ou seja:\n",
    "$$ Índice De Refração Absoluto_A . sen î = Índice de Refração absoluto_B . sen⁮  $$ **OU**\n",
    "$$ n_A . sen î = n_B . sen r̂ $$ \n",
    "\n",
    "________________________________________________________________________________________________________________________________\n",
    "\n",
    "# Ângulo limite\n",
    "\n",
    "## Ângulo limite de incidência\n",
    "\n",
    "Existe um ângulo no qual o raio não sofrerá refração, ou seja, ele não sairá do meio mais refringente para outro menos refringente, sofrendo o que é denominado fisicamente de reflexão total. O ângulo que possibilita esse fenômeno é denominado ângulo limite (̂L).\n",
    "\n",
    "## Ângulo limite de refração\n",
    "\n",
    "Quando um raio de luz se propaga de um meio menos refringente para um meio mais refringente o raio refratado se aproxima da reta normal, Se o ângulo de incidência (î) aumentar, o ângulo de refração tambuém aumentará, sempre na proporção î>̂r. No caso de um ângulo de incidência chegar ao seu valor máximo (incidência em ângulo rasante), isto é $î=90°$, o ângulo de refração tende ao valor de ângulo de refração limite ($r̂=L̂$)\n",
    "\n",
    "Para calculo do ângulo limite, usa-se a seguinte expressão:\n",
    "\n",
    "$$sen L̂ = \\frac {n_{menor}}{n_{maior}}$$\n",
    "\n",
    "\n",
    "\n",
    "________________________________________________________________________________________________________________________________\n",
    "\n",
    "# Lâminas de faces paralelas\n",
    "\n",
    "Considere uma lâminade vidro homogênea, transparente e de faces paralelas colocada no ar. Imagine um raio de luz monocromática incidindo obliquamente sobre uma das faces dessa lâmina. Esse raio sofrerá duas refrações no vidro e depois emergirá no ar.\n",
    "\n",
    "![Lâminas de faces paralelas](http://www.orionclan.com.br/fisica/2014/refracao_e_lentes_3ano_4Bimestre_arquivos/image013.jpg)\n",
    "\n",
    "Saiba que $ i = Ângulo Formado Por R' Com A Normal $. Dado isto, o valor do *Deslocamento lateral* **(d)**, pode ser determinado pela seguinte expressão:\n",
    "\n",
    "$$ d = \\frac {e . sen (i-r)}{cos r} $$\n",
    "\n",
    "**Ou seja**\n",
    "\n",
    "$$ DeslocamentoLateral = \\frac {Espessura . sen (i-r)}{cos r} $$\n",
    "\n",
    "\n",
    "   "
   ]
  },
  {
   "cell_type": "code",
   "execution_count": null,
   "metadata": {
    "collapsed": true
   },
   "outputs": [],
   "source": [
    "\n"
   ]
  }
 ],
 "metadata": {
  "anaconda-cloud": {},
  "kernelspec": {
   "display_name": "Python [conda root]",
   "language": "python",
   "name": "conda-root-py"
  },
  "language_info": {
   "codemirror_mode": {
    "name": "ipython",
    "version": 3
   },
   "file_extension": ".py",
   "mimetype": "text/x-python",
   "name": "python",
   "nbconvert_exporter": "python",
   "pygments_lexer": "ipython3",
   "version": "3.5.2"
  }
 },
 "nbformat": 4,
 "nbformat_minor": 1
}
